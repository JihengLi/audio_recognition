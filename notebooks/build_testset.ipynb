{
 "cells": [
  {
   "cell_type": "code",
   "execution_count": null,
   "metadata": {
    "executionInfo": {
     "elapsed": 371,
     "status": "ok",
     "timestamp": 1745478354436,
     "user": {
      "displayName": "Jiheng Li",
      "userId": "01318088611642014975"
     },
     "user_tz": 300
    },
    "id": "30LVCRU6dbn4"
   },
   "outputs": [],
   "source": [
    "import os, glob, librosa, random\n",
    "import numpy as np\n",
    "import soundfile as sf\n",
    "\n",
    "from collections import defaultdict\n",
    "from typing import Dict, List\n",
    "from pathlib import Path"
   ]
  },
  {
   "cell_type": "code",
   "execution_count": 11,
   "metadata": {
    "colab": {
     "base_uri": "https://localhost:8080/"
    },
    "executionInfo": {
     "elapsed": 1051,
     "status": "ok",
     "timestamp": 1745478355489,
     "user": {
      "displayName": "Jiheng Li",
      "userId": "01318088611642014975"
     },
     "user_tz": 300
    },
    "id": "f9AnQUjwdeJZ",
    "outputId": "6dbec555-ea95-4acf-ace8-330b5e0bfeb8"
   },
   "outputs": [
    {
     "name": "stdout",
     "output_type": "stream",
     "text": [
      "Total musan music files: 75\n"
     ]
    }
   ],
   "source": [
    "audio_files_musan = glob.glob(\n",
    "    \"../data/musan/music/hd-classical/**/*.*\",\n",
    "    recursive=True,\n",
    ")\n",
    "audio_files_musan = [f for f in audio_files_musan if f.endswith(\".wav\")]\n",
    "print(f\"Total musan music files: {len(audio_files_musan)}\")"
   ]
  },
  {
   "cell_type": "code",
   "execution_count": 12,
   "metadata": {
    "colab": {
     "base_uri": "https://localhost:8080/"
    },
    "executionInfo": {
     "elapsed": 926,
     "status": "ok",
     "timestamp": 1745478356416,
     "user": {
      "displayName": "Jiheng Li",
      "userId": "01318088611642014975"
     },
     "user_tz": 300
    },
    "id": "XoPKNfuEdyX1",
    "outputId": "6b2f5d90-dbdf-4557-9868-f2f1d6369462"
   },
   "outputs": [
    {
     "name": "stdout",
     "output_type": "stream",
     "text": [
      "Total parts2songkey music files: 351\n"
     ]
    }
   ],
   "source": [
    "audio_files_parts2songkey = glob.glob(\n",
    "    \"../data/acrcloud/parts2songkey/**/*.*\",\n",
    "    recursive=True,\n",
    ")\n",
    "audio_files_parts2songkey = [f for f in audio_files_parts2songkey if f.endswith(\".wav\")]\n",
    "print(f\"Total parts2songkey music files: {len(audio_files_parts2songkey)}\")"
   ]
  },
  {
   "cell_type": "code",
   "execution_count": 13,
   "metadata": {
    "executionInfo": {
     "elapsed": 2,
     "status": "ok",
     "timestamp": 1745478356426,
     "user": {
      "displayName": "Jiheng Li",
      "userId": "01318088611642014975"
     },
     "user_tz": 300
    },
    "id": "mHvSvXR4eis-"
   },
   "outputs": [],
   "source": [
    "def extract_base_name(file_path):\n",
    "    base = os.path.basename(file_path)\n",
    "    base_no_ext, _ = os.path.splitext(base)\n",
    "    parts = base_no_ext.split(\".\")\n",
    "    return parts"
   ]
  },
  {
   "cell_type": "code",
   "execution_count": 14,
   "metadata": {
    "executionInfo": {
     "elapsed": 2,
     "status": "ok",
     "timestamp": 1745478356432,
     "user": {
      "displayName": "Jiheng Li",
      "userId": "01318088611642014975"
     },
     "user_tz": 300
    },
    "id": "58kilSMcgPAC"
   },
   "outputs": [],
   "source": [
    "label_to_idx = {\n",
    "    \"pop\": 0,\n",
    "    \"reggae\": 1,\n",
    "    \"country\": 2,\n",
    "    \"rock\": 3,\n",
    "    \"classical\": 4,\n",
    "    \"disco\": 5,\n",
    "    \"blues\": 6,\n",
    "    \"hiphop\": 7,\n",
    "    \"jazz\": 8,\n",
    "    \"metal\": 9,\n",
    "}"
   ]
  },
  {
   "cell_type": "code",
   "execution_count": 15,
   "metadata": {
    "executionInfo": {
     "elapsed": 8,
     "status": "ok",
     "timestamp": 1745478356442,
     "user": {
      "displayName": "Jiheng Li",
      "userId": "01318088611642014975"
     },
     "user_tz": 300
    },
    "id": "d1ai1ES9fMH5"
   },
   "outputs": [],
   "source": [
    "label_to_songnames = defaultdict(set)\n",
    "\n",
    "# —— parts2songkey ——\n",
    "for metadata_path in audio_files_parts2songkey:\n",
    "    name_parts = extract_base_name(metadata_path)\n",
    "    label_idx = label_to_idx[name_parts[0]]\n",
    "    song_path = Path(\"../data/acrcloud/songkey\") / f\"{name_parts[-1]}.mp3\"\n",
    "\n",
    "    label_to_songnames[label_idx].add(str(song_path))\n",
    "\n",
    "# —— musan ——\n",
    "for song_path in audio_files_musan:\n",
    "    label_idx = label_to_idx[\"classical\"]\n",
    "    label_to_songnames[label_idx].add(str(song_path))\n",
    "\n",
    "label_to_songnames = {lbl: list(paths) for lbl, paths in label_to_songnames.items()}"
   ]
  },
  {
   "cell_type": "code",
   "execution_count": 16,
   "metadata": {
    "executionInfo": {
     "elapsed": 1,
     "status": "ok",
     "timestamp": 1745478356534,
     "user": {
      "displayName": "Jiheng Li",
      "userId": "01318088611642014975"
     },
     "user_tz": 300
    },
    "id": "BzFkYay5eJ9r"
   },
   "outputs": [],
   "source": [
    "def split_audio(\n",
    "    file_path: str, sample_rate: int, segment_duration: int = 30, overlap: int = 0\n",
    ") -> List[np.ndarray]:\n",
    "    audio, _ = librosa.load(file_path, sr=sample_rate)\n",
    "    seg_samples = segment_duration * sample_rate\n",
    "    step_samples = (segment_duration - overlap) * sample_rate\n",
    "\n",
    "    segments = []\n",
    "    for start in range(0, len(audio) - seg_samples + 1, step_samples):\n",
    "        end = start + seg_samples\n",
    "        segments.append(audio[start:end])\n",
    "    return segments\n",
    "\n",
    "\n",
    "def build_balanced_segments_roundrobin(\n",
    "    label_to_songnames: Dict[int, List[str]],\n",
    "    sample_rate: int,\n",
    "    target_per_label: int,\n",
    "    segment_duration: int = 30,\n",
    "    overlap: int = 0,\n",
    "    shuffle_songs: bool = True,\n",
    "    shuffle_within_song: bool = True,\n",
    ") -> Dict[int, List[np.ndarray]]:\n",
    "    balanced = defaultdict(list)\n",
    "    for label, song_paths in label_to_songnames.items():\n",
    "        if shuffle_songs:\n",
    "            random.shuffle(song_paths)\n",
    "        song_to_segments = {\n",
    "            p: split_audio(p, sample_rate, segment_duration, overlap)\n",
    "            for p in song_paths\n",
    "        }\n",
    "        if shuffle_within_song:\n",
    "            for segs in song_to_segments.values():\n",
    "                random.shuffle(segs)\n",
    "        songs_cycle = list(song_to_segments.keys())\n",
    "        finished_songs = set()\n",
    "        while len(balanced[label]) < target_per_label and songs_cycle:\n",
    "            next_cycle = []\n",
    "            for song in songs_cycle:\n",
    "                segs = song_to_segments[song]\n",
    "                if segs:\n",
    "                    balanced[label].append(segs.pop())\n",
    "                if segs:\n",
    "                    next_cycle.append(song)\n",
    "                else:\n",
    "                    finished_songs.add(song)\n",
    "                if len(balanced[label]) >= target_per_label:\n",
    "                    break\n",
    "            songs_cycle = next_cycle\n",
    "        if len(balanced[label]) < target_per_label:\n",
    "            print(\n",
    "                f\"[WARN] label {label} only got {len(balanced[label])} segments \"\n",
    "                f\"(Target {target_per_label}); All labels are exhaustive.\"\n",
    "            )\n",
    "    return balanced"
   ]
  },
  {
   "cell_type": "code",
   "execution_count": 17,
   "metadata": {
    "colab": {
     "base_uri": "https://localhost:8080/"
    },
    "executionInfo": {
     "elapsed": 309095,
     "status": "ok",
     "timestamp": 1745478674873,
     "user": {
      "displayName": "Jiheng Li",
      "userId": "01318088611642014975"
     },
     "user_tz": 300
    },
    "id": "rWxVBh4TefWH",
    "outputId": "e4374558-3f46-4484-873d-17e851f9bdba"
   },
   "outputs": [
    {
     "name": "stdout",
     "output_type": "stream",
     "text": [
      "[INFO] label 2: saved 30 segments to ../data/segments_30s/label_2\n",
      "[INFO] label 0: saved 30 segments to ../data/segments_30s/label_0\n",
      "[INFO] label 1: saved 30 segments to ../data/segments_30s/label_1\n",
      "[INFO] label 7: saved 30 segments to ../data/segments_30s/label_7\n",
      "[INFO] label 8: saved 30 segments to ../data/segments_30s/label_8\n",
      "[INFO] label 3: saved 30 segments to ../data/segments_30s/label_3\n",
      "[INFO] label 6: saved 30 segments to ../data/segments_30s/label_6\n",
      "[INFO] label 9: saved 30 segments to ../data/segments_30s/label_9\n",
      "[INFO] label 5: saved 30 segments to ../data/segments_30s/label_5\n",
      "[INFO] label 4: saved 30 segments to ../data/segments_30s/label_4\n"
     ]
    }
   ],
   "source": [
    "SR = 16000\n",
    "TARGET_PER_LABEL = 30\n",
    "SEG_DURATION = 30\n",
    "OVERLAP = 0\n",
    "OUTPUT_ROOT = \"../data/segments_30s\"\n",
    "\n",
    "segments_by_label = build_balanced_segments_roundrobin(\n",
    "    label_to_songnames,\n",
    "    sample_rate=SR,\n",
    "    target_per_label=TARGET_PER_LABEL,\n",
    "    segment_duration=SEG_DURATION,\n",
    "    overlap=OVERLAP,\n",
    ")\n",
    "\n",
    "os.makedirs(OUTPUT_ROOT, exist_ok=True)\n",
    "\n",
    "for lbl, seg_list in segments_by_label.items():\n",
    "    out_dir = os.path.join(OUTPUT_ROOT, f\"label_{lbl}\")\n",
    "    os.makedirs(out_dir, exist_ok=True)\n",
    "\n",
    "    for i, seg in enumerate(seg_list):\n",
    "        wav_path = os.path.join(out_dir, f\"{i:05d}.wav\")\n",
    "        sf.write(wav_path, seg, SR, subtype=\"PCM_16\")\n",
    "\n",
    "    print(f\"[INFO] label {lbl}: saved {len(seg_list)} segments to {out_dir}\")"
   ]
  },
  {
   "cell_type": "code",
   "execution_count": null,
   "metadata": {
    "id": "siv-jbIJkx3r"
   },
   "outputs": [],
   "source": []
  }
 ],
 "metadata": {
  "colab": {
   "authorship_tag": "ABX9TyM26Zvqqy2E/DDGscZtf4/U",
   "machine_shape": "hm",
   "provenance": []
  },
  "kernelspec": {
   "display_name": "Python 3",
   "name": "python3"
  },
  "language_info": {
   "codemirror_mode": {
    "name": "ipython",
    "version": 3
   },
   "file_extension": ".py",
   "mimetype": "text/x-python",
   "name": "python",
   "nbconvert_exporter": "python",
   "pygments_lexer": "ipython3",
   "version": "3.11.10"
  }
 },
 "nbformat": 4,
 "nbformat_minor": 0
}
