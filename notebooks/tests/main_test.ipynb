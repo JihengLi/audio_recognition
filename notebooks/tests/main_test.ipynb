{
 "cells": [
  {
   "cell_type": "code",
   "execution_count": null,
   "metadata": {
    "id": "i40hU4JLZn8_"
   },
   "outputs": [],
   "source": [
    "import numpy as np\n",
    "import faiss\n",
    "import torch\n",
    "from torch.utils.data import DataLoader\n",
    "\n",
    "from models import *\n",
    "from datasets import *"
   ]
  },
  {
   "cell_type": "code",
   "execution_count": 2,
   "metadata": {},
   "outputs": [],
   "source": [
    "# test_dataset = CachedDataset(cache_file=\"data/dataset_cache/model2/cached_test_model2.pt\")\n",
    "test_dataset = LazyCachedDataset(cache_dir=\"data/dataset_cache/dmresnet/test\")\n",
    "test_loader = DataLoader(\n",
    "    test_dataset,\n",
    "    batch_size=64,\n",
    "    shuffle=False,\n",
    "    num_workers=8,\n",
    "    pin_memory=True,\n",
    "    collate_fn=collate_fn_dif_length,\n",
    ")"
   ]
  },
  {
   "cell_type": "code",
   "execution_count": 5,
   "metadata": {
    "id": "ugp8Wf3M-JRh"
   },
   "outputs": [],
   "source": [
    "def process_test(model, epoch, top_k, device):\n",
    "    # model.load_state_dict(torch.load(f\"outputs/ResNet+Attention/model3_epoch{epoch}.pth\"))\n",
    "    ckpt_path = f\"outputs/checkpoints/epoch{epoch}.pth\"\n",
    "    ckpt = torch.load(ckpt_path, map_location=\"cpu\")\n",
    "    model.load_state_dict(ckpt[\"model\"], strict=True)\n",
    "    model.eval()\n",
    "\n",
    "    test_doc_embs = []\n",
    "    test_query_embs = []\n",
    "\n",
    "    with torch.no_grad():\n",
    "        for test_batch in test_loader:\n",
    "            query_feat_batch, doc_feat_batch = test_batch\n",
    "            query_feat_batch = query_feat_batch.to(device)\n",
    "            doc_feat_batch = doc_feat_batch.to(device)\n",
    "\n",
    "            query_emb = model(query_feat_batch)\n",
    "            doc_emb = model(doc_feat_batch)\n",
    "\n",
    "            test_query_embs.append(query_emb.cpu().numpy())\n",
    "            test_doc_embs.append(doc_emb.cpu().numpy())\n",
    "\n",
    "    test_query_embs = np.concatenate(test_query_embs, axis=0).astype(np.float32)\n",
    "    test_doc_embs = np.concatenate(test_doc_embs, axis=0).astype(np.float32)\n",
    "\n",
    "    dim = test_doc_embs.shape[1]\n",
    "    index = faiss.IndexFlatIP(dim)\n",
    "    index.add(test_doc_embs)\n",
    "\n",
    "    D, I = index.search(test_query_embs, top_k)\n",
    "\n",
    "    TP = 0\n",
    "    num_queries = test_query_embs.shape[0]\n",
    "    for i in range(num_queries):\n",
    "        # print(f\"Query {i} Top-{top_k} Neighbors: {I[i]}\")\n",
    "        if i in I[i]:\n",
    "            TP += 1\n",
    "\n",
    "    print(f\"Epoch {epoch}: Model accuracy is {TP / num_queries}\")"
   ]
  },
  {
   "cell_type": "code",
   "execution_count": null,
   "metadata": {
    "id": "CQfUFrg7gKMd"
   },
   "outputs": [],
   "source": [
    "device = torch.device(\"cuda\" if torch.cuda.is_available() else \"cpu\")\n",
    "model = DimensionMaskedResNet().to(device)\n",
    "\n",
    "for epoch in range(1, 101):\n",
    "    process_test(model, epoch, 1, device)"
   ]
  },
  {
   "cell_type": "code",
   "execution_count": null,
   "metadata": {
    "id": "QXsZSxQUmaCs"
   },
   "outputs": [],
   "source": []
  }
 ],
 "metadata": {
  "accelerator": "GPU",
  "colab": {
   "collapsed_sections": [
    "LoUkdRSQEbj4"
   ],
   "gpuType": "T4",
   "machine_shape": "hm",
   "provenance": [],
   "toc_visible": true
  },
  "kernelspec": {
   "display_name": ".venv",
   "language": "python",
   "name": "python3"
  },
  "language_info": {
   "codemirror_mode": {
    "name": "ipython",
    "version": 3
   },
   "file_extension": ".py",
   "mimetype": "text/x-python",
   "name": "python",
   "nbconvert_exporter": "python",
   "pygments_lexer": "ipython3",
   "version": "3.10.18"
  }
 },
 "nbformat": 4,
 "nbformat_minor": 0
}
